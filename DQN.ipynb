{
  "nbformat": 4,
  "nbformat_minor": 0,
  "metadata": {
    "colab": {
      "name": "DQN.ipynb",
      "provenance": [],
      "authorship_tag": "ABX9TyMovWLdy5DHLl4b8F99twj1",
      "include_colab_link": true
    },
    "kernelspec": {
      "name": "python3",
      "display_name": "Python 3"
    },
    "language_info": {
      "name": "python"
    }
  },
  "cells": [
    {
      "cell_type": "markdown",
      "metadata": {
        "id": "view-in-github",
        "colab_type": "text"
      },
      "source": [
        "<a href=\"https://colab.research.google.com/github/Blackcipher101/Reinforcement_Learning/blob/main/DQN.ipynb\" target=\"_parent\"><img src=\"https://colab.research.google.com/assets/colab-badge.svg\" alt=\"Open In Colab\"/></a>"
      ]
    },
    {
      "cell_type": "code",
      "execution_count": 5,
      "metadata": {
        "colab": {
          "base_uri": "https://localhost:8080/"
        },
        "id": "bserEd3DPv1w",
        "outputId": "eb6f91d2-d319-4a60-a6a6-4f57a3f242c9"
      },
      "outputs": [
        {
          "output_type": "stream",
          "name": "stdout",
          "text": [
            "WARNING:tensorflow:From /usr/local/lib/python3.7/dist-packages/tensorflow/python/compat/v2_compat.py:107: disable_resource_variables (from tensorflow.python.ops.variable_scope) is deprecated and will be removed in a future version.\n",
            "Instructions for updating:\n",
            "non-resource variables are not supported in the long term\n",
            "WARNING:tensorflow:From /usr/local/lib/python3.7/dist-packages/tensorflow/python/util/tf_should_use.py:243: initialize_all_variables (from tensorflow.python.ops.variables) is deprecated and will be removed after 2017-03-02.\n",
            "Instructions for updating:\n",
            "Use `tf.global_variables_initializer` instead.\n",
            "Percent of successful episodes: 0.257\n"
          ]
        }
      ],
      "source": [
        "\n",
        "  \n",
        "import gym\n",
        "import numpy as np\n",
        "import random\n",
        "import tensorflow.compat.v1 as tf\n",
        "\n",
        "import matplotlib.pyplot as plt\n",
        "tf.disable_v2_behavior()\n",
        "\n",
        "# Load the environment\n",
        "env = gym.make('FrozenLake-v0')\n",
        "\n",
        "# Implement the network\n",
        "tf.compat.v1.reset_default_graph()\n",
        "\n",
        "# Establish the feed-forward part of the network used to choose actions\n",
        "inputs1 = tf.placeholder(shape=[1, 16], dtype=tf.float32)\n",
        "W = tf.Variable(tf.random_uniform([16, 4], 0, 0.01))\n",
        "Qout = tf.matmul(inputs1, W)\n",
        "predict = tf.argmax(Qout, 1)\n",
        "\n",
        "# Obtain the loss by taking the sum of squares difference between the target\n",
        "#   and prediction Q values\n",
        "nextQ = tf.placeholder(shape=[1, 4], dtype=tf.float32)\n",
        "loss = tf.reduce_sum(tf.square(nextQ - Qout))\n",
        "trainer = tf.train.GradientDescentOptimizer(learning_rate=0.1)\n",
        "updateModel = trainer.minimize(loss)\n",
        "\n",
        "# Train the network\n",
        "init = tf.initialize_all_variables()\n",
        "\n",
        "# Set learning parameters\n",
        "y = 0.99\n",
        "e = 0.1\n",
        "num_episodes = 2000\n",
        "\n",
        "# Create lists to contains total rewards andd steps per episode\n",
        "jList = []\n",
        "rList = []\n",
        "\n",
        "with tf.Session() as sess:\n",
        "    sess.run(init)\n",
        "    for i in range(num_episodes):\n",
        "        # Reset environment and get first new observation\n",
        "        s = env.reset()\n",
        "        rAll = 0\n",
        "        d = False\n",
        "        j = 0\n",
        "        # The Q-Network\n",
        "        while j < 99:\n",
        "            j += 1\n",
        "            # Choose an action by greedily (with e chance of random action)\n",
        "            #   from the Q-Network\n",
        "            a, allQ = sess.run([predict, Qout], feed_dict={inputs1:np.identity(16)[s:s+1]})\n",
        "            if np.random.rand(1) < e:\n",
        "                a[0] = env.action_space.sample()\n",
        "            # Get new state and reward from environment\n",
        "            s1, r, d, _ = env.step(a[0])\n",
        "            # Obtain the Q' values by feeding the new state through network\n",
        "            Q1 = sess.run(Qout, feed_dict={inputs1:np.identity(16)[s1:s1+1]})\n",
        "            # Obtain maxQ' and set out target value for choosen action\n",
        "            maxQ1 = np.max(Q1)\n",
        "            targetQ = allQ\n",
        "            targetQ[0, a[0]] = r + y * maxQ1\n",
        "            # Train network using target and predicted Q values\n",
        "            _, W1 = sess.run([updateModel, W], feed_dict={inputs1:np.identity(16)[s:s+1], nextQ:targetQ})\n",
        "            rAll += r\n",
        "            s = s1\n",
        "            if d == True:\n",
        "                # Reduce chance of random action as we train the model\n",
        "                e = 1.0 / ((i/50) + 10)\n",
        "                break\n",
        "        jList.append(j)\n",
        "        rList.append(rAll)\n",
        "\n",
        "print('Percent of successful episodes: %s' % (sum(rList)/float(num_episodes),))"
      ]
    }
  ]
}